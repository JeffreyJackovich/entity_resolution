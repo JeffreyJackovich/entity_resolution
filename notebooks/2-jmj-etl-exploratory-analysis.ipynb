{
 "cells": [
  {
   "cell_type": "code",
   "execution_count": 3,
   "metadata": {},
   "outputs": [],
   "source": [
    "import logging\n",
    "import typing as T\n",
    "\n",
    "from csv import DictReader\n",
    "from io import StringIO"
   ]
  },
  {
   "cell_type": "code",
   "execution_count": null,
   "metadata": {},
   "outputs": [],
   "source": [
    "INPUT_PATH = '~/Desktop/software_analysis_projects/entity_resolution/data/external/csv_example_messy_input.csv'\n",
    "df = pd.read_csv(INPUT_PATH)\n"
   ]
  },
  {
   "cell_type": "code",
   "execution_count": 6,
   "metadata": {},
   "outputs": [],
   "source": [
    "class EmailAddress(str):\n",
    "    def __new__(cls, email: str):\n",
    "        if '@' not in email:\n",
    "            raise ValueError('invalid email')\n",
    "        return super().__new__(cls, email)\n",
    "\n",
    "\n",
    "class IpV4Address(str):\n",
    "    def __new__(cls, address: str):\n",
    "        if not len(address.split('.')) == 4:\n",
    "            raise ValueError('ip address must have 4 octets: ' + address)\n",
    "        elif not all(0 <= int(octet) <= 255 for octet in address.split('.')):\n",
    "            raise ValueError('octet in ip address out-of-range: ' + address)\n",
    "        \n",
    "        return super().__new__(cls, address)\n",
    "        \n",
    "class Person(T.NamedTuple):\n",
    "    id: int\n",
    "    first_name: str\n",
    "    last_name: str\n",
    "    email: EmailAddress\n",
    "    gender: str\n",
    "    ip_address: IpV4Address\n",
    "    \n",
    "    @classmethod\n",
    "    def from_row(cls, row: dict):\n",
    "        return cls(**{\n",
    "            key: type_(row[key]) for key, type_ in cls._field_types.items()\n",
    "        })\n",
    "    \n",
    "\n",
    "def validate_csv(reader: DictReader) -> bool:\n",
    "    for row in reader:\n",
    "        try:\n",
    "            Person.from_row(row)\n",
    "        except Exception as e:\n",
    "            logging.error('type: {} msg: {}'.format(type(e), e))\n",
    "            return False\n",
    "    return True"
   ]
  },
  {
   "cell_type": "code",
   "execution_count": 8,
   "metadata": {},
   "outputs": [],
   "source": [
    "MOCK_DATA = '''\n",
    "id,first_name,last_name,email,gender,ip_address\n",
    "1,Tobiah,Giacovazzo,tgiacovazzo0@zdnet.com,Male,19.149.44.115\n",
    "2,Shir,Januszewicz,sjanuszewicz1@acquirethisname.com,Female,153.89.169.230\n",
    "3,Gaspar,Guitt,gguitt2@usa.gov,Male,174.171.101.164\n",
    "4,Dun,Feakins,dfeakins3@indiatimes.com,Male,110.176.209.154\n",
    "5,Tymon,Filewood,tfilewood4@pbs.org,Male,40.90.194.55\n",
    "6,Ludvig,Urpeth,lurpeth5@technorati.com,Male,4.123.109.132\n",
    "7,Tawnya,Genthner,tgenthner6@posterous.com,Female,238.58.35.55\n",
    "8,Lukas,Gershom,lgershom7@ibm.com,Male,241.38.25.208\n",
    "9,Doroteya,Mottley,dmottley8@drupal.org,Female,145.28.139.222\n",
    "\n",
    "'''.strip()\n",
    "\n",
    "\n",
    "mock_data_csv_reader = DictReader(StringIO(MOCK_DATA))"
   ]
  },
  {
   "cell_type": "code",
   "execution_count": 11,
   "metadata": {},
   "outputs": [
    {
     "name": "stderr",
     "output_type": "stream",
     "text": [
      "ERROR:root:type: <class 'KeyError'> msg: 'id'\n"
     ]
    },
    {
     "name": "stdout",
     "output_type": "stream",
     "text": [
      "False\n"
     ]
    }
   ],
   "source": [
    "#print(validate_csv(mock_data_csv_reader))\n",
    "\n",
    "print(validate_csv(DictReader('foo'))) "
   ]
  },
  {
   "cell_type": "code",
   "execution_count": 14,
   "metadata": {},
   "outputs": [],
   "source": [
    "def preProcess(column):\n",
    "    \"\"\"\n",
    "    Do a little bit of data cleaning with the help of Unidecode and Regex.\n",
    "    Things like casing, extra spaces, quotes and new lines can be ignored.\n",
    "    \"\"\"\n",
    "    \n",
    "    column = re.sub('  +', ' ', column)\n",
    "    column = re.sub('\\n', ' ', column)\n",
    "    column = column.strip().strip('\"').strip(\"'\").lower().strip()\n",
    "    # If data is missing, indicate that by setting the value to `None`\n",
    "    if not column:\n",
    "        column = None\n",
    "    return column\n",
    "\n",
    "def readData(filename):\n",
    "    \"\"\"\n",
    "    Read in our data from a CSV file and create a dictionary of records,\n",
    "    where the key is a unique record ID and each value is dict\n",
    "    \"\"\"\n",
    "\n",
    "    data_d = {}\n",
    "    with open(filename) as f:\n",
    "        reader = csv.DictReader(f)\n",
    "        for row in reader:\n",
    "            clean_row = [(k, preProcess(v)) for (k, v) in row.items()]\n",
    "            row_id = int(row['Id'])\n",
    "            data_d[row_id] = dict(clean_row)\n",
    "\n",
    "    return data_d"
   ]
  },
  {
   "cell_type": "code",
   "execution_count": 15,
   "metadata": {},
   "outputs": [],
   "source": [
    "INPUT_PATH = '~/Desktop/software_analysis_projects/entity_resolution/data/external/csv_example_messy_input.csv'\n"
   ]
  },
  {
   "cell_type": "code",
   "execution_count": 16,
   "metadata": {},
   "outputs": [
    {
     "ename": "FileNotFoundError",
     "evalue": "[Errno 2] No such file or directory: '~/Desktop/software_analysis_projects/entity_resolution/data/external/csv_example_messy_input.csv'",
     "output_type": "error",
     "traceback": [
      "\u001b[0;31m---------------------------------------------------------------------------\u001b[0m",
      "\u001b[0;31mFileNotFoundError\u001b[0m                         Traceback (most recent call last)",
      "\u001b[0;32m<ipython-input-16-9353fecc5122>\u001b[0m in \u001b[0;36m<module>\u001b[0;34m\u001b[0m\n\u001b[0;32m----> 1\u001b[0;31m \u001b[0mprint\u001b[0m\u001b[0;34m(\u001b[0m\u001b[0mreadData\u001b[0m\u001b[0;34m(\u001b[0m\u001b[0mINPUT_PATH\u001b[0m\u001b[0;34m)\u001b[0m\u001b[0;34m)\u001b[0m\u001b[0;34m\u001b[0m\u001b[0;34m\u001b[0m\u001b[0m\n\u001b[0m",
      "\u001b[0;32m<ipython-input-14-fbe23ed89316>\u001b[0m in \u001b[0;36mreadData\u001b[0;34m(filename)\u001b[0m\n\u001b[1;32m     20\u001b[0m \u001b[0;34m\u001b[0m\u001b[0m\n\u001b[1;32m     21\u001b[0m     \u001b[0mdata_d\u001b[0m \u001b[0;34m=\u001b[0m \u001b[0;34m{\u001b[0m\u001b[0;34m}\u001b[0m\u001b[0;34m\u001b[0m\u001b[0;34m\u001b[0m\u001b[0m\n\u001b[0;32m---> 22\u001b[0;31m     \u001b[0;32mwith\u001b[0m \u001b[0mopen\u001b[0m\u001b[0;34m(\u001b[0m\u001b[0mfilename\u001b[0m\u001b[0;34m)\u001b[0m \u001b[0;32mas\u001b[0m \u001b[0mf\u001b[0m\u001b[0;34m:\u001b[0m\u001b[0;34m\u001b[0m\u001b[0;34m\u001b[0m\u001b[0m\n\u001b[0m\u001b[1;32m     23\u001b[0m         \u001b[0mreader\u001b[0m \u001b[0;34m=\u001b[0m \u001b[0mcsv\u001b[0m\u001b[0;34m.\u001b[0m\u001b[0mDictReader\u001b[0m\u001b[0;34m(\u001b[0m\u001b[0mf\u001b[0m\u001b[0;34m)\u001b[0m\u001b[0;34m\u001b[0m\u001b[0;34m\u001b[0m\u001b[0m\n\u001b[1;32m     24\u001b[0m         \u001b[0;32mfor\u001b[0m \u001b[0mrow\u001b[0m \u001b[0;32min\u001b[0m \u001b[0mreader\u001b[0m\u001b[0;34m:\u001b[0m\u001b[0;34m\u001b[0m\u001b[0;34m\u001b[0m\u001b[0m\n",
      "\u001b[0;31mFileNotFoundError\u001b[0m: [Errno 2] No such file or directory: '~/Desktop/software_analysis_projects/entity_resolution/data/external/csv_example_messy_input.csv'"
     ]
    }
   ],
   "source": [
    "print(readData(INPUT_PATH))"
   ]
  },
  {
   "cell_type": "code",
   "execution_count": null,
   "metadata": {},
   "outputs": [],
   "source": []
  }
 ],
 "metadata": {
  "kernelspec": {
   "display_name": "env378",
   "language": "python",
   "name": "env378"
  },
  "language_info": {
   "codemirror_mode": {
    "name": "ipython",
    "version": 3
   },
   "file_extension": ".py",
   "mimetype": "text/x-python",
   "name": "python",
   "nbconvert_exporter": "python",
   "pygments_lexer": "ipython3",
   "version": "3.7.8"
  }
 },
 "nbformat": 4,
 "nbformat_minor": 4
}
